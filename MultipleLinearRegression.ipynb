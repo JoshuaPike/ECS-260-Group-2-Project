{
 "cells": [
  {
   "cell_type": "code",
   "execution_count": 81,
   "id": "consecutive-pointer",
   "metadata": {},
   "outputs": [],
   "source": [
    "import pandas as pd\n",
    "import matplotlib.pyplot as plt\n",
    "import statsmodels.api as sm\n",
    "import os\n",
    "from scipy import stats\n",
    "import numpy as np\n",
    "import glob\n",
    "from datetime import datetime, timedelta"
   ]
  },
  {
   "cell_type": "code",
   "execution_count": 82,
   "id": "exempt-arena",
   "metadata": {},
   "outputs": [],
   "source": [
    "df = pd.read_csv('All Threejs Data.csv')\n",
    "\n",
    "tenure = []\n",
    "for index, row in df.iterrows():\n",
    "    first = datetime.strptime(row['first commit'], \"%Y-%m-%d %H:%M:%S\")\n",
    "    last = datetime.strptime(row['last commit'], \"%Y-%m-%d %H:%M:%S\")\n",
    "    days = (last - first).days\n",
    "    tenure.append(days)\n",
    "\n",
    "df['tenure'] = tenure"
   ]
  },
  {
   "cell_type": "code",
   "execution_count": 106,
   "id": "competitive-policy",
   "metadata": {},
   "outputs": [
    {
     "name": "stdout",
     "output_type": "stream",
     "text": [
      "                             OLS Regression Results                            \n",
      "===============================================================================\n",
      "Dep. Variable:     10x label raw churn   R-squared:                       0.182\n",
      "Model:                             OLS   Adj. R-squared:                  0.179\n",
      "Method:                  Least Squares   F-statistic:                     76.60\n",
      "Date:                 Wed, 08 Dec 2021   Prob (F-statistic):           1.02e-58\n",
      "Time:                         23:26:38   Log-Likelihood:                 779.13\n",
      "No. Observations:                 1386   AIC:                            -1548.\n",
      "Df Residuals:                     1381   BIC:                            -1522.\n",
      "Df Model:                            4                                         \n",
      "Covariance Type:             nonrobust                                         \n",
      "====================================================================================\n",
      "                       coef    std err          t      P>|t|      [0.025      0.975]\n",
      "------------------------------------------------------------------------------------\n",
      "const                0.0238      0.004      6.415      0.000       0.017       0.031\n",
      "tenure               0.0348      0.004      8.488      0.000       0.027       0.043\n",
      "num owned files      0.0428      0.004     10.763      0.000       0.035       0.051\n",
      "average dmm          0.0037      0.004      0.973      0.331      -0.004       0.011\n",
      "average comments     0.0018      0.004      0.491      0.624      -0.005       0.009\n",
      "==============================================================================\n",
      "Omnibus:                     1580.688   Durbin-Watson:                   2.070\n",
      "Prob(Omnibus):                  0.000   Jarque-Bera (JB):            91104.940\n",
      "Skew:                           5.967   Prob(JB):                         0.00\n",
      "Kurtosis:                      40.884   Cond. No.                         1.58\n",
      "==============================================================================\n",
      "\n",
      "Notes:\n",
      "[1] Standard Errors assume that the covariance matrix of the errors is correctly specified.\n"
     ]
    }
   ],
   "source": [
    "#X = df[['tenure']]\n",
    "#X = df[['tenure', 'average dmm']]\n",
    "#X = df[['tenure', 'average comments']]\n",
    "#X = df[['tenure', 'num owned files']]\n",
    "X = df[['tenure', 'num owned files', 'average dmm', 'average comments',]]\n",
    "\n",
    "y = df[\"10x label raw churn\"]\n",
    "\n",
    "# standardize coef\n",
    "df_z = X.select_dtypes(include=[np.number]).dropna().apply(stats.zscore)\n",
    "df_z = sm.add_constant(df_z)\n",
    "\n",
    "ols = sm.OLS(y, df_z).fit()\n",
    "print(ols.summary())"
   ]
  },
  {
   "cell_type": "code",
   "execution_count": 115,
   "id": "auburn-ministry",
   "metadata": {},
   "outputs": [
    {
     "name": "stdout",
     "output_type": "stream",
     "text": [
      "                              OLS Regression Results                             \n",
      "=================================================================================\n",
      "Dep. Variable:     10x label raw commits   R-squared:                       0.409\n",
      "Model:                               OLS   Adj. R-squared:                  0.408\n",
      "Method:                    Least Squares   F-statistic:                     478.7\n",
      "Date:                   Thu, 09 Dec 2021   Prob (F-statistic):          1.02e-158\n",
      "Time:                           00:18:41   Log-Likelihood:                 1640.2\n",
      "No. Observations:                   1386   AIC:                            -3274.\n",
      "Df Residuals:                       1383   BIC:                            -3259.\n",
      "Df Model:                              2                                         \n",
      "Covariance Type:               nonrobust                                         \n",
      "===================================================================================\n",
      "                      coef    std err          t      P>|t|      [0.025      0.975]\n",
      "-----------------------------------------------------------------------------------\n",
      "const               0.0094      0.002      4.707      0.000       0.005       0.013\n",
      "tenure              0.0268      0.002     12.545      0.000       0.023       0.031\n",
      "num owned files     0.0468      0.002     21.915      0.000       0.043       0.051\n",
      "==============================================================================\n",
      "Omnibus:                     2062.536   Durbin-Watson:                   2.049\n",
      "Prob(Omnibus):                  0.000   Jarque-Bera (JB):           599877.126\n",
      "Skew:                           8.863   Prob(JB):                         0.00\n",
      "Kurtosis:                     103.366   Cond. No.                         1.45\n",
      "==============================================================================\n",
      "\n",
      "Notes:\n",
      "[1] Standard Errors assume that the covariance matrix of the errors is correctly specified.\n"
     ]
    }
   ],
   "source": [
    "#X = df[['tenure']]\n",
    "#X = df[['tenure', 'average dmm']]\n",
    "#X = df[['tenure', 'average comments']]\n",
    "#X = df[['tenure', 'num owned files']]\n",
    "#X = df[['tenure', 'num owned files', 'average dmm', 'average comments',]]\n",
    "\n",
    "y = df[\"10x label raw commits\"]\n",
    "\n",
    "# standardize coef\n",
    "df_z = X.select_dtypes(include=[np.number]).dropna().apply(stats.zscore)\n",
    "df_z = sm.add_constant(df_z)\n",
    "\n",
    "ols = sm.OLS(y, df_z).fit()\n",
    "print(ols.summary())"
   ]
  },
  {
   "cell_type": "code",
   "execution_count": null,
   "id": "electrical-payment",
   "metadata": {},
   "outputs": [],
   "source": []
  }
 ],
 "metadata": {
  "kernelspec": {
   "display_name": "Python 3",
   "language": "python",
   "name": "python3"
  },
  "language_info": {
   "codemirror_mode": {
    "name": "ipython",
    "version": 3
   },
   "file_extension": ".py",
   "mimetype": "text/x-python",
   "name": "python",
   "nbconvert_exporter": "python",
   "pygments_lexer": "ipython3",
   "version": "3.8.5"
  }
 },
 "nbformat": 4,
 "nbformat_minor": 5
}
